{
  "nbformat": 4,
  "nbformat_minor": 0,
  "metadata": {
    "colab": {
      "provenance": []
    },
    "kernelspec": {
      "name": "python3",
      "display_name": "Python 3"
    },
    "language_info": {
      "name": "python"
    },
    "accelerator": "TPU"
  },
  "cells": [
    {
      "cell_type": "code",
      "metadata": {
        "id": "UVNcqrk-8hsc"
      },
      "source": [
        "import warnings\n",
        "warnings.filterwarnings('ignore')"
      ],
      "execution_count": null,
      "outputs": []
    },
    {
      "cell_type": "code",
      "metadata": {
        "colab": {
          "base_uri": "https://localhost:8080/"
        },
        "id": "nZZRliH8-OSc",
        "outputId": "146dd7fe-da9a-4266-d422-ef7671d78560"
      },
      "source": [
        "!pip install scikit-plot"
      ],
      "execution_count": null,
      "outputs": [
        {
          "output_type": "stream",
          "text": [
            "Collecting scikit-plot\n",
            "  Downloading https://files.pythonhosted.org/packages/7c/47/32520e259340c140a4ad27c1b97050dd3254fdc517b1d59974d47037510e/scikit_plot-0.3.7-py3-none-any.whl\n",
            "Requirement already satisfied: scipy>=0.9 in /usr/local/lib/python3.7/dist-packages (from scikit-plot) (1.4.1)\n",
            "Requirement already satisfied: matplotlib>=1.4.0 in /usr/local/lib/python3.7/dist-packages (from scikit-plot) (3.2.2)\n",
            "Requirement already satisfied: joblib>=0.10 in /usr/local/lib/python3.7/dist-packages (from scikit-plot) (1.0.1)\n",
            "Requirement already satisfied: scikit-learn>=0.18 in /usr/local/lib/python3.7/dist-packages (from scikit-plot) (0.22.2.post1)\n",
            "Requirement already satisfied: numpy>=1.13.3 in /usr/local/lib/python3.7/dist-packages (from scipy>=0.9->scikit-plot) (1.19.5)\n",
            "Requirement already satisfied: python-dateutil>=2.1 in /usr/local/lib/python3.7/dist-packages (from matplotlib>=1.4.0->scikit-plot) (2.8.1)\n",
            "Requirement already satisfied: kiwisolver>=1.0.1 in /usr/local/lib/python3.7/dist-packages (from matplotlib>=1.4.0->scikit-plot) (1.3.1)\n",
            "Requirement already satisfied: pyparsing!=2.0.4,!=2.1.2,!=2.1.6,>=2.0.1 in /usr/local/lib/python3.7/dist-packages (from matplotlib>=1.4.0->scikit-plot) (2.4.7)\n",
            "Requirement already satisfied: cycler>=0.10 in /usr/local/lib/python3.7/dist-packages (from matplotlib>=1.4.0->scikit-plot) (0.10.0)\n",
            "Requirement already satisfied: six>=1.5 in /usr/local/lib/python3.7/dist-packages (from python-dateutil>=2.1->matplotlib>=1.4.0->scikit-plot) (1.15.0)\n",
            "Installing collected packages: scikit-plot\n",
            "Successfully installed scikit-plot-0.3.7\n"
          ],
          "name": "stdout"
        }
      ]
    },
    {
      "cell_type": "code",
      "metadata": {
        "id": "9sIjgcGk-SqI"
      },
      "source": [
        "import numpy as np\n",
        "import pandas as pd\n",
        "#import sentence_transformers\n",
        "from sklearn.ensemble import RandomForestClassifier\n",
        "from sklearn.naive_bayes import MultinomialNB\n",
        "from sklearn.tree import DecisionTreeClassifier\n",
        "from sklearn.metrics import classification_report\n",
        "from sklearn.metrics import confusion_matrix\n",
        "from sklearn.model_selection import train_test_split\n",
        "import scikitplot.plotters as skplt\n",
        "import matplotlib.pyplot as plt\n",
        "from sklearn.preprocessing import LabelEncoder\n",
        "from sklearn.utils import shuffle\n",
        "from sklearn.svm import SVC"
      ],
      "execution_count": null,
      "outputs": []
    },
    {
      "cell_type": "code",
      "metadata": {
        "colab": {
          "base_uri": "https://localhost:8080/"
        },
        "id": "1G-5eZJr-Vwk",
        "outputId": "7a93ca27-10d4-46fb-940c-de64524bb251"
      },
      "source": [
        "from google.colab import drive\n",
        "drive.mount('/content/drive/')"
      ],
      "execution_count": null,
      "outputs": [
        {
          "output_type": "stream",
          "text": [
            "Mounted at /content/drive/\n"
          ],
          "name": "stdout"
        }
      ]
    },
    {
      "cell_type": "code",
      "metadata": {
        "id": "1fplCTyd-ZWQ"
      },
      "source": [
        "project_path =  '/content/drive/My Drive/Colab/'"
      ],
      "execution_count": null,
      "outputs": []
    },
    {
      "cell_type": "code",
      "metadata": {
        "id": "m7aMg6Xl-hvw"
      },
      "source": [
        "def plot_cmat(yte, ypred):\n",
        "    '''Plotting confusion matrix'''\n",
        "    skplt.plot_confusion_matrix(yte,ypred)\n",
        "    plt.show()\n",
        "    #plt.savefig(project_path+'books_read.pdf')"
      ],
      "execution_count": null,
      "outputs": []
    },
    {
      "cell_type": "code",
      "metadata": {
        "id": "Ex8TGjMe-oYw"
      },
      "source": [
        "xtrain1=np.load(project_path+'/xtrr3.npy')\n",
        "xtest1=np.load(project_path+'/xtee3.npy')\n",
        "ytest1=np.load(project_path+'/ytee3.npy',allow_pickle=True)\n",
        "ytrain1=np.load(project_path+'/ytrr3.npy',allow_pickle=True)"
      ],
      "execution_count": null,
      "outputs": []
    },
    {
      "cell_type": "code",
      "metadata": {
        "id": "2L9CuzQO-tV8"
      },
      "source": [
        "from sklearn.svm import SVC\n",
        "svclassifier = SVC(kernel='linear')\n",
        "svclassifier.fit(xtrain1, ytrain1)\n",
        "y_pred = svclassifier.predict(xtest1)\n",
        "#pickle.dump(svclassifier, open(project_path+'electiommodel', 'wb'))\n",
        "a=ytest1.shape[0]\n",
        "b=(ytest1!=y_pred).sum()\n",
        "print(\"Accuracy =\"+format((a-b)/a*100,'2f')+\"%\")\n",
        "print(classification_report((ytest1, y_pred)))\n",
        "plot_cmat(ytest1, y_pred)"
      ],
      "execution_count": null,
      "outputs": []
    },
    {
      "cell_type": "code",
      "metadata": {
        "id": "LNylXHvT-4R8"
      },
      "source": [
        "rf = RandomForestClassifier(n_estimators=40)\n",
        "rf.fit(xtrain1, ytrain1)\n",
        "y_pred =rf.predict(xtest1)\n",
        "a=ytest1.shape[0]\n",
        "b=(ytest1!=y_pred).sum()\n",
        "print(\"Accuracy =\"+format((a-b)/a*100,'2f')+\"%\")\n",
        "print(classification_report((ytest1, y_pred)))\n",
        "plot_cmat(ytest1, y_pred)"
      ],
      "execution_count": null,
      "outputs": []
    },
    {
      "cell_type": "code",
      "metadata": {
        "id": "FCN5EvCa-_JA"
      },
      "source": [
        "rt = MultinomialNB()\n",
        "rt.fit(xtrain1, ytrain1)\n",
        "y_pred =rt.predict(xtest1)\n",
        "a=ytest1.shape[0]\n",
        "b=(ytest1!=y_pred).sum()\n",
        "print(\"Accuracy =\"+format((a-b)/a*100,'2f')+\"%\")\n",
        "print(classification_report((ytest1, y_pred)))\n",
        "plot_cmat(ytest1, y_pred)"
      ],
      "execution_count": null,
      "outputs": []
    },
    {
      "cell_type": "code",
      "metadata": {
        "id": "9hlRYYPR_CXQ"
      },
      "source": [
        "dt=DecisionTreeClassifier()\n",
        "dt.fit(xtrain1, ytrain1)\n",
        "y_pred =dt.predict(xtest1)\n",
        "a=ytest1.shape[0]\n",
        "b=(ytest1!=y_pred).sum()\n",
        "print(\"Accuracy =\"+format((a-b)/a*100,'2f')+\"%\")\n",
        "print(classification_report((ytest1, y_pred)))\n",
        "plot_cmat(ytest1, y_pred)"
      ],
      "execution_count": null,
      "outputs": []
    }
  ]
}